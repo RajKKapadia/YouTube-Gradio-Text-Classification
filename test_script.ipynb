{
 "cells": [
  {
   "cell_type": "code",
   "execution_count": 1,
   "metadata": {},
   "outputs": [],
   "source": [
    "import torch"
   ]
  },
  {
   "cell_type": "code",
   "execution_count": 2,
   "metadata": {},
   "outputs": [
    {
     "name": "stderr",
     "output_type": "stream",
     "text": [
      "/home/logan/Desktop/Youtube/Gradio/Text-Classification/project-code/venv/lib/python3.9/site-packages/torch/cuda/__init__.py:107: UserWarning: CUDA initialization: CUDA unknown error - this may be due to an incorrectly set up environment, e.g. changing env variable CUDA_VISIBLE_DEVICES after program start. Setting the available devices to be zero. (Triggered internally at ../c10/cuda/CUDAFunctions.cpp:109.)\n",
      "  return torch._C._cuda_getDeviceCount() > 0\n"
     ]
    },
    {
     "data": {
      "text/plain": [
       "'cpu'"
      ]
     },
     "execution_count": 2,
     "metadata": {},
     "output_type": "execute_result"
    }
   ],
   "source": [
    "device = 'cuda' if torch.cuda.is_available() else 'cpu'\n",
    "device "
   ]
  },
  {
   "cell_type": "code",
   "execution_count": 3,
   "metadata": {},
   "outputs": [],
   "source": [
    "from transformers import AutoTokenizer, AutoModelForSequenceClassification"
   ]
  },
  {
   "cell_type": "code",
   "execution_count": 4,
   "metadata": {},
   "outputs": [],
   "source": [
    "MODEL_PATH = 'roberta-base-go_emotions/'\n",
    "tokenizer = AutoTokenizer.from_pretrained(MODEL_PATH)\n",
    "model = AutoModelForSequenceClassification.from_pretrained(MODEL_PATH)\n",
    "model = model.to(device)"
   ]
  },
  {
   "cell_type": "code",
   "execution_count": 5,
   "metadata": {},
   "outputs": [],
   "source": [
    "query = 'I am not having a great day.'"
   ]
  },
  {
   "cell_type": "code",
   "execution_count": 6,
   "metadata": {},
   "outputs": [
    {
     "data": {
      "text/plain": [
       "{'input_ids': tensor([[  0, 100, 524,  45, 519,  10, 372, 183,   4,   2]]), 'attention_mask': tensor([[1, 1, 1, 1, 1, 1, 1, 1, 1, 1]])}"
      ]
     },
     "execution_count": 6,
     "metadata": {},
     "output_type": "execute_result"
    }
   ],
   "source": [
    "inputs = tokenizer(query, return_tensors='pt', truncation=True)\n",
    "inputs = inputs.to(device)\n",
    "inputs"
   ]
  },
  {
   "cell_type": "code",
   "execution_count": 7,
   "metadata": {},
   "outputs": [],
   "source": [
    "outputs = model(**inputs)"
   ]
  },
  {
   "cell_type": "code",
   "execution_count": 8,
   "metadata": {},
   "outputs": [
    {
     "data": {
      "text/plain": [
       "{'admiration': 0,\n",
       " 'amusement': 1,\n",
       " 'anger': 2,\n",
       " 'annoyance': 3,\n",
       " 'approval': 4,\n",
       " 'caring': 5,\n",
       " 'confusion': 6,\n",
       " 'curiosity': 7,\n",
       " 'desire': 8,\n",
       " 'disappointment': 9,\n",
       " 'disapproval': 10,\n",
       " 'disgust': 11,\n",
       " 'embarrassment': 12,\n",
       " 'excitement': 13,\n",
       " 'fear': 14,\n",
       " 'gratitude': 15,\n",
       " 'grief': 16,\n",
       " 'joy': 17,\n",
       " 'love': 18,\n",
       " 'nervousness': 19,\n",
       " 'neutral': 27,\n",
       " 'optimism': 20,\n",
       " 'pride': 21,\n",
       " 'realization': 22,\n",
       " 'relief': 23,\n",
       " 'remorse': 24,\n",
       " 'sadness': 25,\n",
       " 'surprise': 26}"
      ]
     },
     "execution_count": 8,
     "metadata": {},
     "output_type": "execute_result"
    }
   ],
   "source": [
    "label2id = model.config.label2id\n",
    "label2id"
   ]
  },
  {
   "cell_type": "code",
   "execution_count": 9,
   "metadata": {},
   "outputs": [
    {
     "data": {
      "text/plain": [
       "tensor([[-5.8912, -6.4097, -5.1344, -2.3781, -4.4519, -5.2010, -5.6352, -6.0904,\n",
       "         -5.8536,  0.0178, -2.8869, -5.3134, -5.1938, -5.9966, -5.9365, -7.3348,\n",
       "         -5.6248, -5.0768, -5.9956, -4.2687, -5.9012, -7.4587, -4.2042, -5.7734,\n",
       "         -5.2262, -0.6325, -6.4586, -2.8483]], grad_fn=<AddmmBackward0>)"
      ]
     },
     "execution_count": 9,
     "metadata": {},
     "output_type": "execute_result"
    }
   ],
   "source": [
    "outputs[0]"
   ]
  },
  {
   "cell_type": "code",
   "execution_count": 10,
   "metadata": {},
   "outputs": [],
   "source": [
    "logits = outputs.logits\n",
    "sigmoid = torch.nn.Sigmoid()\n",
    "probs = sigmoid(logits.squeeze().cpu())\n",
    "probs = probs.detach().numpy()"
   ]
  },
  {
   "cell_type": "code",
   "execution_count": 11,
   "metadata": {},
   "outputs": [
    {
     "data": {
      "text/plain": [
       "array([0.0027561 , 0.00164284, 0.00585601, 0.08485784, 0.01152237,\n",
       "       0.00548085, 0.00355731, 0.00225947, 0.00286127, 0.50444835,\n",
       "       0.05280709, 0.00490111, 0.00552022, 0.00248115, 0.00263443,\n",
       "       0.000652  , 0.00359444, 0.00620087, 0.00248361, 0.01380647,\n",
       "       0.00272877, 0.0005761 , 0.01471279, 0.00309946, 0.00534504,\n",
       "       0.34694305, 0.00156451, 0.05476679], dtype=float32)"
      ]
     },
     "execution_count": 11,
     "metadata": {},
     "output_type": "execute_result"
    }
   ],
   "source": [
    "probs"
   ]
  },
  {
   "cell_type": "code",
   "execution_count": 12,
   "metadata": {},
   "outputs": [],
   "source": [
    "for i, k in enumerate(label2id.keys()):\n",
    "    label2id[k] = probs[i]"
   ]
  },
  {
   "cell_type": "code",
   "execution_count": 13,
   "metadata": {},
   "outputs": [
    {
     "data": {
      "text/plain": [
       "{'admiration': 0.002756104,\n",
       " 'amusement': 0.0016428408,\n",
       " 'anger': 0.005856009,\n",
       " 'annoyance': 0.08485784,\n",
       " 'approval': 0.011522369,\n",
       " 'caring': 0.0054808543,\n",
       " 'confusion': 0.0035573125,\n",
       " 'curiosity': 0.0022594687,\n",
       " 'desire': 0.0028612658,\n",
       " 'disappointment': 0.50444835,\n",
       " 'disapproval': 0.052807093,\n",
       " 'disgust': 0.004901111,\n",
       " 'embarrassment': 0.0055202236,\n",
       " 'excitement': 0.002481147,\n",
       " 'fear': 0.00263443,\n",
       " 'gratitude': 0.0006519979,\n",
       " 'grief': 0.003594436,\n",
       " 'joy': 0.006200869,\n",
       " 'love': 0.0024836052,\n",
       " 'nervousness': 0.013806469,\n",
       " 'neutral': 0.0027287677,\n",
       " 'optimism': 0.0005760981,\n",
       " 'pride': 0.014712791,\n",
       " 'realization': 0.0030994597,\n",
       " 'relief': 0.0053450353,\n",
       " 'remorse': 0.34694305,\n",
       " 'sadness': 0.001564505,\n",
       " 'surprise': 0.05476679}"
      ]
     },
     "execution_count": 13,
     "metadata": {},
     "output_type": "execute_result"
    }
   ],
   "source": [
    "label2id"
   ]
  },
  {
   "cell_type": "code",
   "execution_count": 14,
   "metadata": {},
   "outputs": [
    {
     "data": {
      "text/plain": [
       "{'disappointment': 0.50444835,\n",
       " 'remorse': 0.34694305,\n",
       " 'annoyance': 0.08485784,\n",
       " 'surprise': 0.05476679,\n",
       " 'disapproval': 0.052807093,\n",
       " 'pride': 0.014712791,\n",
       " 'nervousness': 0.013806469,\n",
       " 'approval': 0.011522369,\n",
       " 'joy': 0.006200869,\n",
       " 'anger': 0.005856009,\n",
       " 'embarrassment': 0.0055202236,\n",
       " 'caring': 0.0054808543,\n",
       " 'relief': 0.0053450353,\n",
       " 'disgust': 0.004901111,\n",
       " 'grief': 0.003594436,\n",
       " 'confusion': 0.0035573125,\n",
       " 'realization': 0.0030994597,\n",
       " 'desire': 0.0028612658,\n",
       " 'admiration': 0.002756104,\n",
       " 'neutral': 0.0027287677,\n",
       " 'fear': 0.00263443,\n",
       " 'love': 0.0024836052,\n",
       " 'excitement': 0.002481147,\n",
       " 'curiosity': 0.0022594687,\n",
       " 'amusement': 0.0016428408,\n",
       " 'sadness': 0.001564505,\n",
       " 'gratitude': 0.0006519979,\n",
       " 'optimism': 0.0005760981}"
      ]
     },
     "execution_count": 14,
     "metadata": {},
     "output_type": "execute_result"
    }
   ],
   "source": [
    "label2id = {k: v for k, v in sorted(label2id.items(), key=lambda item: item[1], reverse=True)}\n",
    "label2id"
   ]
  },
  {
   "cell_type": "code",
   "execution_count": null,
   "metadata": {},
   "outputs": [],
   "source": []
  }
 ],
 "metadata": {
  "kernelspec": {
   "display_name": "venv",
   "language": "python",
   "name": "python3"
  },
  "language_info": {
   "codemirror_mode": {
    "name": "ipython",
    "version": 3
   },
   "file_extension": ".py",
   "mimetype": "text/x-python",
   "name": "python",
   "nbconvert_exporter": "python",
   "pygments_lexer": "ipython3",
   "version": "3.9.17"
  },
  "orig_nbformat": 4
 },
 "nbformat": 4,
 "nbformat_minor": 2
}

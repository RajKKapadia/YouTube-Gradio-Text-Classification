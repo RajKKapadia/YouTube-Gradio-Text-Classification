{
 "cells": [
  {
   "cell_type": "markdown",
   "metadata": {},
   "source": [
    "# Text Classification\n",
    "\n",
    "* Learn to load a Transformers model\n",
    "* Use it to predict classes"
   ]
  },
  {
   "cell_type": "code",
   "execution_count": 2,
   "metadata": {},
   "outputs": [],
   "source": [
    "import torch"
   ]
  },
  {
   "cell_type": "code",
   "execution_count": 3,
   "metadata": {},
   "outputs": [
    {
     "data": {
      "text/plain": [
       "'cuda'"
      ]
     },
     "execution_count": 3,
     "metadata": {},
     "output_type": "execute_result"
    }
   ],
   "source": [
    "device = 'cuda' if torch.cuda.is_available() else 'cpu'\n",
    "device"
   ]
  },
  {
   "cell_type": "code",
   "execution_count": 4,
   "metadata": {},
   "outputs": [],
   "source": [
    "from transformers import AutoTokenizer, AutoModelForSequenceClassification"
   ]
  },
  {
   "cell_type": "code",
   "execution_count": 5,
   "metadata": {},
   "outputs": [],
   "source": [
    "MODEL_PATH = 'roberta-base-go_emotions/'\n",
    "tokenizer = AutoTokenizer.from_pretrained(MODEL_PATH)\n",
    "model = AutoModelForSequenceClassification.from_pretrained(MODEL_PATH)\n",
    "model = model.to(device)"
   ]
  },
  {
   "cell_type": "code",
   "execution_count": 7,
   "metadata": {},
   "outputs": [],
   "source": [
    "query = 'I am not having a great day.'"
   ]
  },
  {
   "cell_type": "code",
   "execution_count": 8,
   "metadata": {},
   "outputs": [
    {
     "data": {
      "text/plain": [
       "{'input_ids': tensor([[  0, 100, 524,  45, 519,  10, 372, 183,   4,   2]], device='cuda:0'), 'attention_mask': tensor([[1, 1, 1, 1, 1, 1, 1, 1, 1, 1]], device='cuda:0')}"
      ]
     },
     "execution_count": 8,
     "metadata": {},
     "output_type": "execute_result"
    }
   ],
   "source": [
    "inputs = tokenizer(query, return_tensors='pt', truncation=True)\n",
    "inputs = inputs.to(device)\n",
    "inputs"
   ]
  },
  {
   "cell_type": "code",
   "execution_count": 9,
   "metadata": {},
   "outputs": [],
   "source": [
    "outputs = model(**inputs)"
   ]
  },
  {
   "cell_type": "code",
   "execution_count": 10,
   "metadata": {},
   "outputs": [
    {
     "data": {
      "text/plain": [
       "SequenceClassifierOutput(loss=None, logits=tensor([[-5.8912, -6.4097, -5.1344, -2.3781, -4.4519, -5.2010, -5.6352, -6.0904,\n",
       "         -5.8536,  0.0178, -2.8869, -5.3134, -5.1938, -5.9966, -5.9364, -7.3348,\n",
       "         -5.6248, -5.0768, -5.9956, -4.2687, -5.9012, -7.4587, -4.2042, -5.7734,\n",
       "         -5.2262, -0.6325, -6.4586, -2.8483]], device='cuda:0',\n",
       "       grad_fn=<AddmmBackward0>), hidden_states=None, attentions=None)"
      ]
     },
     "execution_count": 10,
     "metadata": {},
     "output_type": "execute_result"
    }
   ],
   "source": [
    "outputs"
   ]
  },
  {
   "cell_type": "code",
   "execution_count": 11,
   "metadata": {},
   "outputs": [
    {
     "data": {
      "text/plain": [
       "{'admiration': 0,\n",
       " 'amusement': 1,\n",
       " 'anger': 2,\n",
       " 'annoyance': 3,\n",
       " 'approval': 4,\n",
       " 'caring': 5,\n",
       " 'confusion': 6,\n",
       " 'curiosity': 7,\n",
       " 'desire': 8,\n",
       " 'disappointment': 9,\n",
       " 'disapproval': 10,\n",
       " 'disgust': 11,\n",
       " 'embarrassment': 12,\n",
       " 'excitement': 13,\n",
       " 'fear': 14,\n",
       " 'gratitude': 15,\n",
       " 'grief': 16,\n",
       " 'joy': 17,\n",
       " 'love': 18,\n",
       " 'nervousness': 19,\n",
       " 'neutral': 27,\n",
       " 'optimism': 20,\n",
       " 'pride': 21,\n",
       " 'realization': 22,\n",
       " 'relief': 23,\n",
       " 'remorse': 24,\n",
       " 'sadness': 25,\n",
       " 'surprise': 26}"
      ]
     },
     "execution_count": 11,
     "metadata": {},
     "output_type": "execute_result"
    }
   ],
   "source": [
    "label2id = model.config.label2id\n",
    "label2id"
   ]
  },
  {
   "cell_type": "code",
   "execution_count": 12,
   "metadata": {},
   "outputs": [],
   "source": [
    "logits = outputs.logits\n",
    "sigmoid = torch.nn.Sigmoid()\n",
    "probs = sigmoid(logits.squeeze().cpu())\n",
    "probs = probs.detach().numpy()"
   ]
  },
  {
   "cell_type": "code",
   "execution_count": 13,
   "metadata": {},
   "outputs": [
    {
     "data": {
      "text/plain": [
       "array([0.0027561 , 0.00164284, 0.00585602, 0.08485793, 0.01152236,\n",
       "       0.00548085, 0.00355732, 0.00225947, 0.00286126, 0.5044489 ,\n",
       "       0.05280719, 0.00490112, 0.00552023, 0.00248114, 0.00263443,\n",
       "       0.000652  , 0.00359444, 0.00620086, 0.0024836 , 0.01380645,\n",
       "       0.00272877, 0.0005761 , 0.01471279, 0.00309946, 0.00534504,\n",
       "       0.3469431 , 0.00156451, 0.05476674], dtype=float32)"
      ]
     },
     "execution_count": 13,
     "metadata": {},
     "output_type": "execute_result"
    }
   ],
   "source": [
    "probs"
   ]
  },
  {
   "cell_type": "code",
   "execution_count": 14,
   "metadata": {},
   "outputs": [],
   "source": [
    "for i, k in enumerate(label2id.keys()):\n",
    "    label2id[k] = probs[i]"
   ]
  },
  {
   "cell_type": "code",
   "execution_count": 15,
   "metadata": {},
   "outputs": [
    {
     "data": {
      "text/plain": [
       "{'admiration': 0.0027561015,\n",
       " 'amusement': 0.00164284,\n",
       " 'anger': 0.0058560176,\n",
       " 'annoyance': 0.084857926,\n",
       " 'approval': 0.011522359,\n",
       " 'caring': 0.005480847,\n",
       " 'confusion': 0.003557316,\n",
       " 'curiosity': 0.002259471,\n",
       " 'desire': 0.002861263,\n",
       " 'disappointment': 0.5044489,\n",
       " 'disapproval': 0.05280719,\n",
       " 'disgust': 0.0049011176,\n",
       " 'embarrassment': 0.0055202344,\n",
       " 'excitement': 0.0024811446,\n",
       " 'fear': 0.0026344326,\n",
       " 'gratitude': 0.00065199763,\n",
       " 'grief': 0.0035944376,\n",
       " 'joy': 0.0062008603,\n",
       " 'love': 0.0024836042,\n",
       " 'nervousness': 0.01380645,\n",
       " 'neutral': 0.0027287717,\n",
       " 'optimism': 0.0005760981,\n",
       " 'pride': 0.014712791,\n",
       " 'realization': 0.0030994583,\n",
       " 'relief': 0.0053450353,\n",
       " 'remorse': 0.3469431,\n",
       " 'sadness': 0.001564508,\n",
       " 'surprise': 0.054766744}"
      ]
     },
     "execution_count": 15,
     "metadata": {},
     "output_type": "execute_result"
    }
   ],
   "source": [
    "label2id"
   ]
  },
  {
   "cell_type": "code",
   "execution_count": 16,
   "metadata": {},
   "outputs": [
    {
     "data": {
      "text/plain": [
       "{'disappointment': 0.5044489,\n",
       " 'remorse': 0.3469431,\n",
       " 'annoyance': 0.084857926,\n",
       " 'surprise': 0.054766744,\n",
       " 'disapproval': 0.05280719,\n",
       " 'pride': 0.014712791,\n",
       " 'nervousness': 0.01380645,\n",
       " 'approval': 0.011522359,\n",
       " 'joy': 0.0062008603,\n",
       " 'anger': 0.0058560176,\n",
       " 'embarrassment': 0.0055202344,\n",
       " 'caring': 0.005480847,\n",
       " 'relief': 0.0053450353,\n",
       " 'disgust': 0.0049011176,\n",
       " 'grief': 0.0035944376,\n",
       " 'confusion': 0.003557316,\n",
       " 'realization': 0.0030994583,\n",
       " 'desire': 0.002861263,\n",
       " 'admiration': 0.0027561015,\n",
       " 'neutral': 0.0027287717,\n",
       " 'fear': 0.0026344326,\n",
       " 'love': 0.0024836042,\n",
       " 'excitement': 0.0024811446,\n",
       " 'curiosity': 0.002259471,\n",
       " 'amusement': 0.00164284,\n",
       " 'sadness': 0.001564508,\n",
       " 'gratitude': 0.00065199763,\n",
       " 'optimism': 0.0005760981}"
      ]
     },
     "execution_count": 16,
     "metadata": {},
     "output_type": "execute_result"
    }
   ],
   "source": [
    "label2id = {k: v for k, v in sorted(label2id.items(), key=lambda item: item[1], reverse=True)}\n",
    "label2id"
   ]
  },
  {
   "cell_type": "code",
   "execution_count": null,
   "metadata": {},
   "outputs": [],
   "source": []
  }
 ],
 "metadata": {
  "kernelspec": {
   "display_name": "venv",
   "language": "python",
   "name": "python3"
  },
  "language_info": {
   "codemirror_mode": {
    "name": "ipython",
    "version": 3
   },
   "file_extension": ".py",
   "mimetype": "text/x-python",
   "name": "python",
   "nbconvert_exporter": "python",
   "pygments_lexer": "ipython3",
   "version": "3.9.17"
  },
  "orig_nbformat": 4
 },
 "nbformat": 4,
 "nbformat_minor": 2
}
